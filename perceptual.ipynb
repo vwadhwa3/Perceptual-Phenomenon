{
 "cells": [
  {
   "cell_type": "raw",
   "metadata": {},
   "source": [
    "<h4>Q1: Question response correctly identifies the independent and dependent variables in the experiment.</h4>\n",
    "<P>Independent Variable:-Color Congruency</P>\n",
    "<P>Dependent Variables:-The time that it takes to name the ink color</P>"
   ]
  },
  {
   "cell_type": "raw",
   "metadata": {},
   "source": [
    "<h4>Q2a: Null and alternative hypotheses are clearly stated in words and mathematically. Symbols in the mathematical statement are defined</h4>\n",
    "<p>The null hypothesis is considered the mean time taken for recognising colour for congruent words is equal to or greater than the mean time taken for incongruent words</p>\n",
    "<P>H0: There is no difference in population means of response time under incongruent and congruent conditions ( H0: μC = μI )</p>\n",
    "<P>Ha: Population mean of the response time under incongruent condition will be significantly larger than the response time under congruent condition ( Ha: μC < μI )</p>\n",
    "<p>So, this would be a one-tailed test as there are reasons to assume directionality beforehand.</p>\n",
    "<P>Please refer to this link for more information about directional hypothesis</p>"
   ]
  },
  {
   "cell_type": "raw",
   "metadata": {},
   "source": [
    "<h4>Q2b: A statistical test is proposed which will distinguish the proposed hypotheses. Any assumptions made by the statistical test are addressed.</h4>\n",
    "<p>\n",
    "The mean time taken to recognising the congruent words(14.051125000000004) is less as compared to the time taken to recognising Incongruent words(22.01591666666667)</p>\n",
    "<P>I am using t-test because size of data is small and how the means of two sets of data differ from one another when variance is not given. </p>"
   ]
  },
  {
   "cell_type": "code",
   "execution_count": 2,
   "metadata": {},
   "outputs": [
    {
     "name": "stdout",
     "output_type": "stream",
     "text": [
      "Mean of Congruent:- 14.051125000000004\n",
      "Mean of Incongruent:- 22.01591666666667\n"
     ]
    }
   ],
   "source": [
    "import math\n",
    "import seaborn as sea\n",
    "import numpy as np\n",
    "import pandas as pd\n",
    "import matplotlib.pyplot as plot\n",
    "import scipy.stats as stats\n",
    "\n",
    "data = pd.read_csv(\"stroopdata.csv\")\n",
    "\n",
    "\n",
    "#mean\n",
    "Cmean = data['Congruent'].mean();\n",
    "Imean = data['Incongruent'].mean();\n",
    "\n",
    "print('Mean of Congruent:-',Cmean);\n",
    "print('Mean of Incongruent:-',Imean);\n"
   ]
  },
  {
   "cell_type": "raw",
   "metadata": {},
   "source": [
    "<h4>Q3: Descriptive statistics, including at least one measure of centrality and one measure of variability, have been computed for the dataset’s groups</h4>"
   ]
  },
  {
   "cell_type": "code",
   "execution_count": 3,
   "metadata": {},
   "outputs": [
    {
     "name": "stdout",
     "output_type": "stream",
     "text": [
      "Mean of Congruent:- 14.051125000000004\n",
      "Mean of Incongruent:- 22.01591666666667\n",
      "Median of Congruent:- 14.3565\n",
      "Median of Incongruent:- 21.0175\n",
      "Standard Deviation  of Congruent:-  3.559357957645195\n",
      "Standard Deviation  of  Incongruent:-  4.797057122469138\n"
     ]
    }
   ],
   "source": [
    "#Median\n",
    "Cmedian = data['Congruent'].median();\n",
    "Imedian = data['Incongruent'].median();\n",
    "#Standard deviation\n",
    "CStandardDeviation = data['Congruent'].std();\n",
    "IStandardDeviation = data['Incongruent'].std();\n",
    "\n",
    "print('Mean of Congruent:-',Cmean);\n",
    "print('Mean of Incongruent:-',Imean);\n",
    "print('Median of Congruent:-',Cmedian);\n",
    "print('Median of Incongruent:-',Imedian);\n",
    "print('Standard Deviation  of Congruent:- ',CStandardDeviation);\n",
    "print('Standard Deviation  of  Incongruent:- ',IStandardDeviation);\n"
   ]
  },
  {
   "cell_type": "raw",
   "metadata": {},
   "source": [
    "<h4>Q4: One or two visualizations have been created that show off the data, including comments on what can be observed in the plot or plots.</h4>"
   ]
  },
  {
   "cell_type": "code",
   "execution_count": 4,
   "metadata": {},
   "outputs": [
    {
     "data": {
      "image/png": "[encoded data removed]",
      "text/plain": [
       "<Figure size 432x288 with 1 Axes>"
      ]
     },
     "metadata": {
      "needs_background": "light"
     },
     "output_type": "display_data"
    }
   ],
   "source": [
    "# this code was throwing warning so I have commented it \n",
    "# sea.distplot(data['Congruent'],label = \"Congruent\");\n",
    "# sea.distplot(data['Incongruent'],label = \"Incongruent\");\n",
    "# plot.xlabel(\"Time\");\n",
    "# plot.ylabel(\"Frequency\");\n",
    "# plot.title(\"Response Time For Congruent Vs Incongruent Words\");\n",
    "# plot.legend();\n",
    "\n",
    "\n",
    "plot.xlabel(\"Time\",fontsize=16);\n",
    "plot.ylabel(\"Frequency\",fontsize=16);\n",
    "plot.title(\"Response Time For Congruent Vs Incongruent Words\",fontsize=24);\n",
    "\n",
    "con_array = np.array(data.Congruent)\n",
    "# incongruent group to numpy array\n",
    "incon_array = np.array(data.Incongruent) \n",
    "# distribution of congruent group\n",
    "plot.hist(con_array);\n",
    "# distribution of incongruent group\n",
    "plot.hist(incon_array);"
   ]
  },
  {
   "cell_type": "raw",
   "metadata": {},
   "source": [
    "<h4>Q5: A statistical test has been correctly performed and reported, including test statistic, p-value, and test result. The test results are interpreted in terms of the experimental task performed. Alternatively, students may use a bootstrapping approach to simulate the results of a traditional hypothesis test.</h4>"
   ]
  },
  {
   "cell_type": "code",
   "execution_count": 8,
   "metadata": {},
   "outputs": [
    {
     "data": {
      "text/plain": [
       "Ttest_relResult(statistic=8.020706944109957, pvalue=4.103000585711178e-08)"
      ]
     },
     "execution_count": 8,
     "metadata": {},
     "output_type": "execute_result"
    }
   ],
   "source": [
    "stats.ttest_rel(data['Incongruent'],data['Congruent'],axis=0)"
   ]
  },
  {
   "cell_type": "code",
   "execution_count": 9,
   "metadata": {},
   "outputs": [
    {
     "data": {
      "text/plain": [
       "count    24.000000\n",
       "mean      7.964792\n",
       "std       4.864827\n",
       "min       1.950000\n",
       "25%       3.645500\n",
       "50%       7.666500\n",
       "75%      10.258500\n",
       "max      21.919000\n",
       "Name: difference, dtype: float64"
      ]
     },
     "execution_count": 9,
     "metadata": {},
     "output_type": "execute_result"
    }
   ],
   "source": [
    "data['difference']= data['Incongruent'] - data['Congruent']\n",
    "data['difference'].describe()"
   ]
  },
  {
   "cell_type": "code",
   "execution_count": 11,
   "metadata": {},
   "outputs": [
    {
     "data": {
      "text/plain": [
       "1.7138715277470473"
      ]
     },
     "execution_count": 11,
     "metadata": {},
     "output_type": "execute_result"
    }
   ],
   "source": [
    "stats.t.ppf(0.95,23)"
   ]
  },
  {
   "cell_type": "raw",
   "metadata": {},
   "source": [
    "<p>For a confidence level of 95% and 23 degrees of freedom, our t-critical is 1.7138715277470473</p>\n",
    "<p>And our t-statistic is 8.020706944109957 so since the t-statistic value is greater that the t-critical value, we reject the null hypothesis. which pretty much match with what we expect.</p>"
   ]
  }
 ],
 "metadata": {
  "kernelspec": {
   "display_name": "Python 3",
   "language": "python",
   "name": "python3"
  },
  "language_info": {
   "codemirror_mode": {
    "name": "ipython",
    "version": 3
   },
   "file_extension": ".py",
   "mimetype": "text/x-python",
   "name": "python",
   "nbconvert_exporter": "python",
   "pygments_lexer": "ipython3",
   "version": "3.7.1"
  }
 },
 "nbformat": 4,
 "nbformat_minor": 2
}
